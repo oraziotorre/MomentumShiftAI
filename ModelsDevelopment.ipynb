{
  "nbformat": 4,
  "nbformat_minor": 0,
  "metadata": {
    "colab": {
      "provenance": [],
      "authorship_tag": "ABX9TyOT7uekZoCsPMMDw3aVseMI",
      "include_colab_link": true
    },
    "kernelspec": {
      "name": "python3",
      "display_name": "Python 3"
    },
    "language_info": {
      "name": "python"
    }
  },
  "cells": [
    {
      "cell_type": "markdown",
      "metadata": {
        "id": "view-in-github",
        "colab_type": "text"
      },
      "source": [
        "<a href=\"https://colab.research.google.com/github/oraziotorre/MomentumShiftAI/blob/main/ModelsDevelopment.ipynb\" target=\"_parent\"><img src=\"https://colab.research.google.com/assets/colab-badge.svg\" alt=\"Open In Colab\"/></a>"
      ]
    },
    {
      "cell_type": "code",
      "execution_count": 1,
      "metadata": {
        "id": "PRXc0RR1aR6-"
      },
      "outputs": [],
      "source": [
        "import pandas as pd\n",
        "import numpy as np\n",
        "\n",
        "import tensorflow as tf"
      ]
    },
    {
      "cell_type": "code",
      "source": [
        "# Importiamo il dataset ottenuto tramite le operazioni di Data Preprocessing\n",
        "dataset = pd.read_csv(\"tennis_dataset.csv\")\n",
        "\n",
        "dataset"
      ],
      "metadata": {
        "id": "UmDkY0i1jWrI"
      },
      "execution_count": 1,
      "outputs": []
    },
    {
      "cell_type": "markdown",
      "source": [
        "#**Train-Test split**\n",
        "Per ridurre il rischio di data leakage, abbiamo progettato un processo di training-test split che include diversi accorgimenti mirati:\n",
        "\n",
        "- Distribuzione delle tipologie di punteggi: Assicuriamo che le stesse percentuali di tipologie di punteggi presenti nel dataset originale siano mantenute sia nel training set che nel test set. Ad esempio, se nel dataset originale il 10% delle istanze ha punteggi 4-3, garantiamo che anche nel training e nel test split sia presente il 10% di istanze con punteggi 4-3. In questo modo la divisione dei dati di training e test sarà rappresentativa del dataset complessivo(SERVE???)\n",
        "\n",
        "- Possiamo fare anche un training test split temporale perchè i dati nel dataset sono già ordinati dal più nuovo al più vecchio\n",
        "\n",
        "- Da metà dataset in poi sono presenti le istanze invertite quindi bisogna mantenere l'istanza e l'istanza invertita nello stesso split\n",
        "\n",
        "Questi accorgimenti ci permettono di ridurre al minimo il rischio di data leakage e migliorare la validità delle performance del modello."
      ],
      "metadata": {
        "id": "d9iSSGWajlYw"
      }
    },
    {
      "cell_type": "code",
      "source": [],
      "metadata": {
        "id": "z3GBoKytkoI8"
      },
      "execution_count": null,
      "outputs": []
    },
    {
      "cell_type": "markdown",
      "source": [
        "#**Model 1**"
      ],
      "metadata": {
        "id": "BQLPMefGkocP"
      }
    },
    {
      "cell_type": "code",
      "source": [],
      "metadata": {
        "id": "Q0vlglvMksjp"
      },
      "execution_count": null,
      "outputs": []
    }
  ]
}