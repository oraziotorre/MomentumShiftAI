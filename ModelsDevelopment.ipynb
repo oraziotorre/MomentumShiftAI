{
  "nbformat": 4,
  "nbformat_minor": 0,
  "metadata": {
    "colab": {
      "provenance": [],
      "authorship_tag": "ABX9TyMewdmSrAtswwh3ndhGnS81",
      "include_colab_link": true
    },
    "kernelspec": {
      "name": "python3",
      "display_name": "Python 3"
    },
    "language_info": {
      "name": "python"
    }
  },
  "cells": [
    {
      "cell_type": "markdown",
      "metadata": {
        "id": "view-in-github",
        "colab_type": "text"
      },
      "source": [
        "<a href=\"https://colab.research.google.com/github/oraziotorre/MomentumShiftAI/blob/main/ModelsDevelopment.ipynb\" target=\"_parent\"><img src=\"https://colab.research.google.com/assets/colab-badge.svg\" alt=\"Open In Colab\"/></a>"
      ]
    },
    {
      "cell_type": "code",
      "execution_count": 38,
      "metadata": {
        "id": "PRXc0RR1aR6-"
      },
      "outputs": [],
      "source": [
        "import pandas as pd\n",
        "import numpy as np\n",
        "\n",
        "import tensorflow as tf\n",
        "from sklearn.model_selection import train_test_split\n",
        "from sklearn.preprocessing import LabelEncoder"
      ]
    },
    {
      "cell_type": "code",
      "source": [
        "# Importiamo il dataset ottenuto tramite le operazioni di Data Preprocessing\n",
        "dataset = pd.read_csv(\"tennis.csv\")"
      ],
      "metadata": {
        "id": "UmDkY0i1jWrI"
      },
      "execution_count": 35,
      "outputs": []
    },
    {
      "cell_type": "markdown",
      "source": [
        "#**Train-Test split**"
      ],
      "metadata": {
        "id": "d9iSSGWajlYw"
      }
    },
    {
      "cell_type": "code",
      "source": [
        "# Estrai tutti gli ID unici delle partite\n",
        "match_ids = dataset['match_id'].unique()\n",
        "\n",
        "# Split degli ID in training e test (es. 80% train, 20% test)\n",
        "train_ids, test_ids = train_test_split(match_ids, test_size=0.2, random_state=42)\n",
        "\n",
        "# Filtra il dataset mantenendo intere le partite\n",
        "train_data = dataset[dataset['match_id'].isin(train_ids)].reset_index(drop=True)\n",
        "test_data = dataset[dataset['match_id'].isin(test_ids)].reset_index(drop=True)"
      ],
      "metadata": {
        "id": "z3GBoKytkoI8"
      },
      "execution_count": 36,
      "outputs": []
    },
    {
      "cell_type": "markdown",
      "source": [
        "Adesso aumento la dimensionalità degli split considerando le istanze simmetriche"
      ],
      "metadata": {
        "id": "trExqGFsXM3X"
      }
    },
    {
      "cell_type": "code",
      "source": [
        "def augment_with_symmetric(df: pd.DataFrame) -> pd.DataFrame:\n",
        "    df_swapped = df.copy()\n",
        "\n",
        "    # Colonne da swappare a coppie\n",
        "    swap_pairs = [\n",
        "        ('Set1', 'Set2'),\n",
        "        ('Gm1', 'Gm2'),\n",
        "        ('Player1', 'Player2'),\n",
        "        ('Ranking1', 'Ranking2'),\n",
        "        ('p1_win_nobreak_point', 'p2_win_nobreak_point'),\n",
        "        ('p1_win_break_point', 'p2_win_break_point'),\n",
        "        ('p1_lost_nobreak_point', 'p2_lost_nobreak_point'),\n",
        "        ('p1_lost_break_point', 'p2_lost_break_point'),\n",
        "        ('serve_ace_1', 'serve_ace_2'),\n",
        "        ('serve_miss2_1', 'serve_miss1_2'),\n",
        "        ('rally_winner_1', 'rally_winner_2'),\n",
        "        ('rally_forced2_1', 'rally_forced1_2'),\n",
        "        ('rally_unforced1_2', 'rally_unforced2_1')\n",
        "    ]\n",
        "    for col1, col2 in swap_pairs:\n",
        "        df_swapped[[col1, col2]] = df[[col2, col1]].values\n",
        "\n",
        "    # Colonne dove 1 <-> 2\n",
        "    invert_1_2_cols = ['Svr', 'PtWinner', 'SetWinner', 'MatchWinner']\n",
        "    for col in invert_1_2_cols:\n",
        "        df_swapped[col] = df[col].replace({1: 2, 2: 1})\n",
        "\n",
        "    # Inversione della colonna Pts (es. \"40-15\" -> \"15-40\")\n",
        "    def invert_pts(value):\n",
        "        try:\n",
        "            left, right = value.split('-')\n",
        "            return f\"{right}-{left}\"\n",
        "        except:\n",
        "            return value  # Se non è nel formato previsto, lo lascia invariato\n",
        "\n",
        "    if 'Pts' in df.columns:\n",
        "        df_swapped['Pts'] = df['Pts'].apply(invert_pts)\n",
        "\n",
        "    return pd.concat([df, df_swapped], ignore_index=True)\n",
        "\n",
        "\n",
        "train_data = augment_with_symmetric(train_data)\n",
        "test_data = augment_with_symmetric(test_data)"
      ],
      "metadata": {
        "id": "N61m-gtfXVZs"
      },
      "execution_count": 37,
      "outputs": []
    },
    {
      "cell_type": "markdown",
      "source": [
        "Bisogna convertire i valori non numerici in valori numerici e poi bisogna convertire i valori numerici in valori adatti all'addestramento"
      ],
      "metadata": {
        "id": "ZVklpv-nkwKB"
      }
    },
    {
      "cell_type": "markdown",
      "source": [
        "Creare i batch di training del Modello 1(il migliore su Github): Quindi sono con i ranking e chi vince\n",
        "\n",
        "Usare la predizione di partenza di tale modello per:\n",
        "\n",
        "Modello 2 LSTM: per ogni match id considerare tutte le istanze di punteggi con le colonne utili con etichetta match winner\n",
        "Provare variante sui set quindi dividere per set id e mettere etichetta SetWinner\n",
        "\n",
        "Crea la Loss Function corretta dando peso alle giuste feature e ai punti consecutivi\n",
        "\n",
        "\n",
        "Considera di usare la predizione del modello 1 con la percentuale data dalla funzione matematica"
      ],
      "metadata": {
        "id": "ZeutvMe3k5IG"
      }
    },
    {
      "cell_type": "markdown",
      "source": [
        "#**Model 1**"
      ],
      "metadata": {
        "id": "BQLPMefGkocP"
      }
    },
    {
      "cell_type": "code",
      "source": [],
      "metadata": {
        "id": "Q0vlglvMksjp"
      },
      "execution_count": null,
      "outputs": []
    },
    {
      "cell_type": "markdown",
      "source": [
        "# **Model 2**"
      ],
      "metadata": {
        "id": "EnAZeV1LlUMe"
      }
    },
    {
      "cell_type": "code",
      "source": [],
      "metadata": {
        "id": "KH1rrabmlWDC"
      },
      "execution_count": null,
      "outputs": []
    }
  ]
}